{
 "cells": [
  {
   "cell_type": "code",
   "execution_count": 9,
   "id": "6169b0ba",
   "metadata": {},
   "outputs": [],
   "source": [
    "import numpy as np\n",
    "import pandas as pd\n",
    "import matplotlib.pyplot as plt\n",
    "import matplotlib.dates as mdates\n",
    "import yfinance as yf\n",
    "\n",
    "import time\n",
    "import datetime as dt\n",
    "import os"
   ]
  },
  {
   "cell_type": "code",
   "execution_count": 11,
   "id": "6a3b1c20",
   "metadata": {},
   "outputs": [],
   "source": [
    "# tickers we want to use: Apple, Amazon, Bitcoin, Tesla, and Uber\n",
    "tickers = ['AAPL','AMZN','BTC-USD','TSLA','UBER']"
   ]
  },
  {
   "cell_type": "markdown",
   "id": "3d59a40e",
   "metadata": {},
   "source": [
    "# Collecting Data"
   ]
  },
  {
   "cell_type": "code",
   "execution_count": 5,
   "id": "067d0741",
   "metadata": {},
   "outputs": [],
   "source": [
    "# Basic information on the stock (can add more if you want later)\n",
    "def get_stock_info(ticker):\n",
    "    # get the stock information\n",
    "    stock = yf.Ticker(ticker)\n",
    "    \n",
    "    # Overview of company\n",
    "    print(stock.info)\n",
    "    \n",
    "    # get historical market data\n",
    "    hist = msft.history(period=\"max\")"
   ]
  },
  {
   "cell_type": "code",
   "execution_count": 6,
   "id": "25a79212",
   "metadata": {},
   "outputs": [],
   "source": [
    "# Get the ticker data and save to a csv\n",
    "def save_stock_data_to_csv(path, ticker):\n",
    "    stock = yf.Ticker(ticker)\n",
    "    \n",
    "    try:\n",
    "        df = stock.history(period='max')\n",
    "        \n",
    "        time.sleep(2)\n",
    "        \n",
    "        # save to csv\n",
    "        \n",
    "        \n",
    "    except Exception as ex:\n",
    "        print(\"Could not get data for \" + ticker)"
   ]
  },
  {
   "cell_type": "code",
   "execution_count": 8,
   "id": "e079fec2",
   "metadata": {},
   "outputs": [],
   "source": [
    "# get ticker data from a csv\n",
    "def get_stock_df_from_csv(path, ticker):\n",
    "    pass"
   ]
  },
  {
   "cell_type": "code",
   "execution_count": 13,
   "id": "98437957",
   "metadata": {},
   "outputs": [
    {
     "name": "stdout",
     "output_type": "stream",
     "text": [
      "AAPL\n",
      "AMZN\n",
      "BTC-USD\n",
      "TSLA\n",
      "UBER\n"
     ]
    }
   ],
   "source": [
    "# Data collection loop\n",
    "for ticker in tickers:\n",
    "    print(ticker)"
   ]
  },
  {
   "cell_type": "code",
   "execution_count": null,
   "id": "b3bf4bf8",
   "metadata": {},
   "outputs": [],
   "source": []
  }
 ],
 "metadata": {
  "kernelspec": {
   "display_name": "Python 3 (ipykernel)",
   "language": "python",
   "name": "python3"
  },
  "language_info": {
   "codemirror_mode": {
    "name": "ipython",
    "version": 3
   },
   "file_extension": ".py",
   "mimetype": "text/x-python",
   "name": "python",
   "nbconvert_exporter": "python",
   "pygments_lexer": "ipython3",
   "version": "3.10.2"
  }
 },
 "nbformat": 4,
 "nbformat_minor": 5
}
