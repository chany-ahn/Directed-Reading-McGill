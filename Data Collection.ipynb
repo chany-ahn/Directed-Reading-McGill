{
 "cells": [
  {
   "cell_type": "code",
   "execution_count": 1,
   "id": "6169b0ba",
   "metadata": {},
   "outputs": [],
   "source": [
    "import numpy as np\n",
    "import pandas as pd\n",
    "import yfinance as yf\n",
    "import time"
   ]
  },
  {
   "cell_type": "code",
   "execution_count": 2,
   "id": "6a3b1c20",
   "metadata": {},
   "outputs": [],
   "source": [
    "# tickers we want to use: Apple, Amazon, Bitcoin, Tesla, and Uber\n",
    "tickers = ['AAPL','AMZN','BTC-USD','TSLA','UBER']"
   ]
  },
  {
   "cell_type": "markdown",
   "id": "da59a49b",
   "metadata": {},
   "source": [
    "# Collecting Data"
   ]
  },
  {
   "cell_type": "code",
   "execution_count": 3,
   "id": "bd46da52",
   "metadata": {},
   "outputs": [],
   "source": [
    "# Basic information on the stock (can add more if you want later)\n",
    "def get_stock_info(ticker):\n",
    "    # get the stock information\n",
    "    stock = yf.Ticker(ticker)\n",
    "    \n",
    "    # Overview of company\n",
    "    print(stock.info)\n",
    "    \n",
    "    # get historical market data\n",
    "    hist = stock.history(period=\"max\")"
   ]
  },
  {
   "cell_type": "code",
   "execution_count": 4,
   "id": "675dc93f",
   "metadata": {},
   "outputs": [],
   "source": [
    "# Get the ticker data and save to a csv\n",
    "def save_stock_data_to_csv(path, ticker):\n",
    "    stock = yf.Ticker(ticker)\n",
    "    \n",
    "    try:\n",
    "        df = stock.history(period='5y')\n",
    "        \n",
    "        time.sleep(2)\n",
    "        \n",
    "        # save to csv\n",
    "        file = path + ticker.replace(\".\",\"_\") + \".csv\"\n",
    "        print(file)\n",
    "    \n",
    "        df.to_csv(file)\n",
    "        print(\"Saved successfully...\")\n",
    "    except Exception as ex:\n",
    "        print(\"Could not get data for \" + ticker)"
   ]
  },
  {
   "cell_type": "code",
   "execution_count": 5,
   "id": "b607637a",
   "metadata": {},
   "outputs": [
    {
     "name": "stdout",
     "output_type": "stream",
     "text": [
      "C:\\Users\\Chany\\OneDrive - McGill University\\Stuff\\projects\\Directed-Reading-McGill\\ticker_data\\AAPL.csv\n",
      "Saved successfully...\n",
      "C:\\Users\\Chany\\OneDrive - McGill University\\Stuff\\projects\\Directed-Reading-McGill\\ticker_data\\AMZN.csv\n",
      "Saved successfully...\n",
      "C:\\Users\\Chany\\OneDrive - McGill University\\Stuff\\projects\\Directed-Reading-McGill\\ticker_data\\BTC-USD.csv\n",
      "Saved successfully...\n",
      "C:\\Users\\Chany\\OneDrive - McGill University\\Stuff\\projects\\Directed-Reading-McGill\\ticker_data\\TSLA.csv\n",
      "Saved successfully...\n",
      "C:\\Users\\Chany\\OneDrive - McGill University\\Stuff\\projects\\Directed-Reading-McGill\\ticker_data\\UBER.csv\n",
      "Saved successfully...\n"
     ]
    }
   ],
   "source": [
    "path = \"C:\\\\Users\\\\Chany\\\\OneDrive - McGill University\\\\Stuff\\\\projects\\\\Directed-Reading-McGill\\\\ticker_data\\\\\"\n",
    "# Data collection loop\n",
    "for ticker in tickers:\n",
    "    save_stock_data_to_csv(path, ticker)"
   ]
  },
  {
   "cell_type": "code",
   "execution_count": null,
   "id": "e3c02900",
   "metadata": {},
   "outputs": [],
   "source": []
  }
 ],
 "metadata": {
  "kernelspec": {
   "display_name": "Python 3 (ipykernel)",
   "language": "python",
   "name": "python3"
  },
  "language_info": {
   "codemirror_mode": {
    "name": "ipython",
    "version": 3
   },
   "file_extension": ".py",
   "mimetype": "text/x-python",
   "name": "python",
   "nbconvert_exporter": "python",
   "pygments_lexer": "ipython3",
   "version": "3.10.2"
  }
 },
 "nbformat": 4,
 "nbformat_minor": 5
}
