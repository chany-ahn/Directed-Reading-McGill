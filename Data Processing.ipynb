{
 "cells": [
  {
   "cell_type": "code",
   "execution_count": null,
   "id": "35cd157c",
   "metadata": {},
   "outputs": [],
   "source": [
    "import pandas as pd\n",
    "impo"
   ]
  },
  {
   "cell_type": "code",
   "execution_count": null,
   "id": "db0a2867",
   "metadata": {},
   "outputs": [],
   "source": []
  },
  {
   "cell_type": "markdown",
   "id": "1d86a0e3",
   "metadata": {},
   "source": [
    "# Bollinger Bands"
   ]
  },
  {
   "cell_type": "code",
   "execution_count": null,
   "id": "66a9951a",
   "metadata": {},
   "outputs": [],
   "source": [
    "def bollinger_bands():\n",
    "    pass"
   ]
  },
  {
   "cell_type": "markdown",
   "id": "260f2ea7",
   "metadata": {},
   "source": [
    "# RSI"
   ]
  },
  {
   "cell_type": "code",
   "execution_count": null,
   "id": "1a3ccc32",
   "metadata": {},
   "outputs": [],
   "source": [
    "def rsi():\n",
    "    pass"
   ]
  },
  {
   "cell_type": "markdown",
   "id": "bb6a764c",
   "metadata": {},
   "source": [
    "# Exponential Moving Average"
   ]
  },
  {
   "cell_type": "code",
   "execution_count": null,
   "id": "9ae92c9f",
   "metadata": {},
   "outputs": [],
   "source": [
    "def exp_moving_avg():\n",
    "    pass"
   ]
  },
  {
   "cell_type": "markdown",
   "id": "f7cf4ab2",
   "metadata": {},
   "source": [
    "# Momentum"
   ]
  },
  {
   "cell_type": "code",
   "execution_count": null,
   "id": "f05fb82a",
   "metadata": {},
   "outputs": [],
   "source": [
    "def momentum():\n",
    "    pass"
   ]
  },
  {
   "cell_type": "markdown",
   "id": "df05a090",
   "metadata": {},
   "source": [
    "# Rate of Change"
   ]
  },
  {
   "cell_type": "code",
   "execution_count": null,
   "id": "56dabbc4",
   "metadata": {},
   "outputs": [],
   "source": [
    "def roc():\n",
    "    pass"
   ]
  },
  {
   "cell_type": "markdown",
   "id": "6d686a9e",
   "metadata": {},
   "source": [
    "# Time Series Forecast"
   ]
  },
  {
   "cell_type": "code",
   "execution_count": null,
   "id": "5284fb83",
   "metadata": {},
   "outputs": [],
   "source": [
    "def tsf():\n",
    "    pass"
   ]
  }
 ],
 "metadata": {
  "kernelspec": {
   "display_name": "Python 3 (ipykernel)",
   "language": "python",
   "name": "python3"
  },
  "language_info": {
   "codemirror_mode": {
    "name": "ipython",
    "version": 3
   },
   "file_extension": ".py",
   "mimetype": "text/x-python",
   "name": "python",
   "nbconvert_exporter": "python",
   "pygments_lexer": "ipython3",
   "version": "3.10.2"
  }
 },
 "nbformat": 4,
 "nbformat_minor": 5
}
