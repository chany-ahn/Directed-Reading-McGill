{
 "cells": [
  {
   "cell_type": "markdown",
   "id": "0303b98f",
   "metadata": {},
   "source": [
    "# Bollinger Bands"
   ]
  },
  {
   "cell_type": "code",
   "execution_count": null,
   "id": "918f97cc",
   "metadata": {},
   "outputs": [],
   "source": [
    "def bollinger_bands():\n",
    "    pass"
   ]
  },
  {
   "cell_type": "markdown",
   "id": "a4ae818c",
   "metadata": {},
   "source": [
    "# RSI"
   ]
  },
  {
   "cell_type": "code",
   "execution_count": null,
   "id": "accda114",
   "metadata": {},
   "outputs": [],
   "source": [
    "def rsi():\n",
    "    pass"
   ]
  },
  {
   "cell_type": "markdown",
   "id": "b92f5005",
   "metadata": {},
   "source": [
    "# Exponential Moving Average"
   ]
  },
  {
   "cell_type": "code",
   "execution_count": null,
   "id": "6f2889e2",
   "metadata": {},
   "outputs": [],
   "source": [
    "def exp_moving_avg():\n",
    "    pass"
   ]
  },
  {
   "cell_type": "markdown",
   "id": "539b7392",
   "metadata": {},
   "source": [
    "# Momentum"
   ]
  },
  {
   "cell_type": "code",
   "execution_count": null,
   "id": "1c639e22",
   "metadata": {},
   "outputs": [],
   "source": [
    "def momentum():\n",
    "    pass"
   ]
  },
  {
   "cell_type": "markdown",
   "id": "e14cf814",
   "metadata": {},
   "source": [
    "# Rate of Change"
   ]
  },
  {
   "cell_type": "code",
   "execution_count": null,
   "id": "42979e08",
   "metadata": {},
   "outputs": [],
   "source": [
    "def roc():\n",
    "    pass"
   ]
  },
  {
   "cell_type": "markdown",
   "id": "84e2bef0",
   "metadata": {},
   "source": [
    "# Time Series Forecast"
   ]
  },
  {
   "cell_type": "code",
   "execution_count": null,
   "id": "91c4a1a6",
   "metadata": {},
   "outputs": [],
   "source": [
    "def tsf():\n",
    "    pass"
   ]
  }
 ],
 "metadata": {
  "kernelspec": {
   "display_name": "Python 3 (ipykernel)",
   "language": "python",
   "name": "python3"
  },
  "language_info": {
   "codemirror_mode": {
    "name": "ipython",
    "version": 3
   },
   "file_extension": ".py",
   "mimetype": "text/x-python",
   "name": "python",
   "nbconvert_exporter": "python",
   "pygments_lexer": "ipython3",
   "version": "3.10.2"
  }
 },
 "nbformat": 4,
 "nbformat_minor": 5
}
