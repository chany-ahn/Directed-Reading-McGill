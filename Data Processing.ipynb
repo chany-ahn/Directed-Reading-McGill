{
 "cells": [
  {
   "cell_type": "code",
   "execution_count": 1,
   "id": "ffff0fce",
   "metadata": {},
   "outputs": [],
   "source": [
    "import numpy as np\n",
    "import pandas as pd\n",
    "import matplotlib.pyplot as plt"
   ]
  },
  {
   "cell_type": "code",
   "execution_count": 5,
   "id": "a2e282b1",
   "metadata": {},
   "outputs": [],
   "source": [
    "# getting the ticker data from a csv file\n",
    "def ticker_df_from_csv(path,ticker):\n",
    "    df = pd.read_csv(path+ticker+\".csv\",index_col=0)\n",
    "    return df\n",
    "\n",
    "# Look at pandas documentations for computing moving averages"
   ]
  },
  {
   "cell_type": "markdown",
   "id": "648cfa9d",
   "metadata": {},
   "source": [
    "# Change in Closing Data"
   ]
  },
  {
   "cell_type": "code",
   "execution_count": null,
   "id": "772735cc",
   "metadata": {},
   "outputs": [],
   "source": [
    "# compute the rolling difference between the last two closing prices\n",
    "def compute_change_in_closing(df):\n",
    "    df['Change'] = df['Closing'].rolling(window=2).apply(lambda x: x.iloc[1] - x.iloc[0])\n",
    "    df['Gain'] = np.where(df['Change'] > 0, df['Change'], 0) # gains in their own column\n",
    "    df['Loss'] = np.where(df['Change'] < 0, abs(df['Change']), 0) # loses in their own columns\n",
    "    return df"
   ]
  },
  {
   "cell_type": "markdown",
   "id": "313384b5",
   "metadata": {},
   "source": [
    "# Bollinger Bands"
   ]
  },
  {
   "cell_type": "code",
   "execution_count": 3,
   "id": "f2f70043",
   "metadata": {},
   "outputs": [],
   "source": [
    "def bollinger_bands(df):\n",
    "    df['bol_middle_band'] = df['Close'].rolling(window=20)\n",
    "    df['bol_upper_band'] = df['bol_middle_band'] + 1.96 * df['Close'].rolling(window=20).std()\n",
    "    df['bol_lower_band'] = df['bol_middle_band'] - 1.96 * df['Close'].rolling(window=20).std()\n",
    "    return df"
   ]
  },
  {
   "cell_type": "markdown",
   "id": "38fa52b2",
   "metadata": {},
   "source": [
    "# RSI"
   ]
  },
  {
   "cell_type": "code",
   "execution_count": null,
   "id": "1bf9371c",
   "metadata": {},
   "outputs": [],
   "source": [
    "def rsi(df):\n",
    "    # need to compute the initial RSI value since we require 14 days worth of data\n",
    "    df['rsi'] = 100 - 100 / (1 + ((df['Gain'].rolling(14).sum()/14)/(df['Loss'].rolling(14).sum()/14)))\n",
    "    pass"
   ]
  },
  {
   "cell_type": "markdown",
   "id": "831a0f0b",
   "metadata": {},
   "source": [
    "# Exponential Moving Average"
   ]
  },
  {
   "cell_type": "code",
   "execution_count": null,
   "id": "4afcf763",
   "metadata": {},
   "outputs": [],
   "source": [
    "def exp_moving_avg():\n",
    "    pass"
   ]
  },
  {
   "cell_type": "markdown",
   "id": "9967903f",
   "metadata": {},
   "source": [
    "# Momentum"
   ]
  },
  {
   "cell_type": "code",
   "execution_count": null,
   "id": "0c914d21",
   "metadata": {},
   "outputs": [],
   "source": [
    "def momentum():\n",
    "    pass"
   ]
  },
  {
   "cell_type": "markdown",
   "id": "34655867",
   "metadata": {},
   "source": [
    "# Rate of Change"
   ]
  },
  {
   "cell_type": "code",
   "execution_count": null,
   "id": "9a38cd29",
   "metadata": {},
   "outputs": [],
   "source": [
    "def roc():\n",
    "    pass"
   ]
  },
  {
   "cell_type": "markdown",
   "id": "c0552624",
   "metadata": {},
   "source": [
    "# Time Series Forecast"
   ]
  },
  {
   "cell_type": "code",
   "execution_count": 6,
   "id": "6343b5b1",
   "metadata": {},
   "outputs": [],
   "source": [
    "def tsf():\n",
    "    pass"
   ]
  },
  {
   "cell_type": "code",
   "execution_count": 10,
   "id": "c5ac50b1",
   "metadata": {},
   "outputs": [
    {
     "data": {
      "text/html": [
       "<div>\n",
       "<style scoped>\n",
       "    .dataframe tbody tr th:only-of-type {\n",
       "        vertical-align: middle;\n",
       "    }\n",
       "\n",
       "    .dataframe tbody tr th {\n",
       "        vertical-align: top;\n",
       "    }\n",
       "\n",
       "    .dataframe thead th {\n",
       "        text-align: right;\n",
       "    }\n",
       "</style>\n",
       "<table border=\"1\" class=\"dataframe\">\n",
       "  <thead>\n",
       "    <tr style=\"text-align: right;\">\n",
       "      <th></th>\n",
       "      <th>Change</th>\n",
       "    </tr>\n",
       "  </thead>\n",
       "  <tbody>\n",
       "    <tr>\n",
       "      <th>0</th>\n",
       "      <td>-1</td>\n",
       "    </tr>\n",
       "    <tr>\n",
       "      <th>1</th>\n",
       "      <td>2</td>\n",
       "    </tr>\n",
       "    <tr>\n",
       "      <th>2</th>\n",
       "      <td>3</td>\n",
       "    </tr>\n",
       "    <tr>\n",
       "      <th>3</th>\n",
       "      <td>4</td>\n",
       "    </tr>\n",
       "    <tr>\n",
       "      <th>4</th>\n",
       "      <td>-6</td>\n",
       "    </tr>\n",
       "    <tr>\n",
       "      <th>5</th>\n",
       "      <td>7</td>\n",
       "    </tr>\n",
       "    <tr>\n",
       "      <th>6</th>\n",
       "      <td>8</td>\n",
       "    </tr>\n",
       "  </tbody>\n",
       "</table>\n",
       "</div>"
      ],
      "text/plain": [
       "   Change\n",
       "0      -1\n",
       "1       2\n",
       "2       3\n",
       "3       4\n",
       "4      -6\n",
       "5       7\n",
       "6       8"
      ]
     },
     "execution_count": 10,
     "metadata": {},
     "output_type": "execute_result"
    }
   ],
   "source": [
    "record = {\n",
    "    'Change' : [-1,2,3,4,-6,7,8]\n",
    "}\n",
    "df = pd.DataFrame(record)\n",
    "df"
   ]
  },
  {
   "cell_type": "code",
   "execution_count": 27,
   "id": "c0cc7485",
   "metadata": {},
   "outputs": [
    {
     "data": {
      "text/html": [
       "<div>\n",
       "<style scoped>\n",
       "    .dataframe tbody tr th:only-of-type {\n",
       "        vertical-align: middle;\n",
       "    }\n",
       "\n",
       "    .dataframe tbody tr th {\n",
       "        vertical-align: top;\n",
       "    }\n",
       "\n",
       "    .dataframe thead th {\n",
       "        text-align: right;\n",
       "    }\n",
       "</style>\n",
       "<table border=\"1\" class=\"dataframe\">\n",
       "  <thead>\n",
       "    <tr style=\"text-align: right;\">\n",
       "      <th></th>\n",
       "      <th>Change</th>\n",
       "      <th>new</th>\n",
       "    </tr>\n",
       "  </thead>\n",
       "  <tbody>\n",
       "    <tr>\n",
       "      <th>0</th>\n",
       "      <td>-1</td>\n",
       "      <td>1</td>\n",
       "    </tr>\n",
       "    <tr>\n",
       "      <th>1</th>\n",
       "      <td>2</td>\n",
       "      <td>0</td>\n",
       "    </tr>\n",
       "    <tr>\n",
       "      <th>2</th>\n",
       "      <td>3</td>\n",
       "      <td>0</td>\n",
       "    </tr>\n",
       "    <tr>\n",
       "      <th>3</th>\n",
       "      <td>4</td>\n",
       "      <td>0</td>\n",
       "    </tr>\n",
       "    <tr>\n",
       "      <th>4</th>\n",
       "      <td>-6</td>\n",
       "      <td>6</td>\n",
       "    </tr>\n",
       "    <tr>\n",
       "      <th>5</th>\n",
       "      <td>7</td>\n",
       "      <td>0</td>\n",
       "    </tr>\n",
       "    <tr>\n",
       "      <th>6</th>\n",
       "      <td>8</td>\n",
       "      <td>0</td>\n",
       "    </tr>\n",
       "  </tbody>\n",
       "</table>\n",
       "</div>"
      ],
      "text/plain": [
       "   Change  new\n",
       "0      -1    1\n",
       "1       2    0\n",
       "2       3    0\n",
       "3       4    0\n",
       "4      -6    6\n",
       "5       7    0\n",
       "6       8    0"
      ]
     },
     "execution_count": 27,
     "metadata": {},
     "output_type": "execute_result"
    }
   ],
   "source": [
    "df['new'] = np.where(df['Change'] < 0, abs(df['Change']),0)\n",
    "df"
   ]
  },
  {
   "cell_type": "code",
   "execution_count": null,
   "id": "95cc5db8",
   "metadata": {},
   "outputs": [],
   "source": []
  }
 ],
 "metadata": {
  "kernelspec": {
   "display_name": "Python 3 (ipykernel)",
   "language": "python",
   "name": "python3"
  },
  "language_info": {
   "codemirror_mode": {
    "name": "ipython",
    "version": 3
   },
   "file_extension": ".py",
   "mimetype": "text/x-python",
   "name": "python",
   "nbconvert_exporter": "python",
   "pygments_lexer": "ipython3",
   "version": "3.10.2"
  }
 },
 "nbformat": 4,
 "nbformat_minor": 5
}
